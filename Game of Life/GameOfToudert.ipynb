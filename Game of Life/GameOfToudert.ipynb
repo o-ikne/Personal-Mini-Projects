{
 "cells": [
  {
   "cell_type": "code",
   "execution_count": 1,
   "metadata": {},
   "outputs": [
    {
     "name": "stdout",
     "output_type": "stream",
     "text": [
      "pygame 1.9.6\n",
      "Hello from the pygame community. https://www.pygame.org/contribute.html\n"
     ]
    }
   ],
   "source": [
    "import pygame\n",
    "from random import randint\n",
    "import numpy as np"
   ]
  },
  {
   "cell_type": "code",
   "execution_count": 2,
   "metadata": {},
   "outputs": [],
   "source": [
    "Width = 800\n",
    "Height = 500\n",
    "rectWidth = 10\n",
    "rectHeight = 10\n",
    "GREEN = (34,139,34)\n",
    "WHITE = (255,255,255)\n",
    "GRAY = (128,128,128)\n",
    "RED = (255, 0, 0)\n",
    "BLACK = (0, 0, 0)"
   ]
  },
  {
   "cell_type": "code",
   "execution_count": 3,
   "metadata": {},
   "outputs": [],
   "source": [
    "schema = [[0]*int(Width/rectWidth) for i in range(int(Height/rectHeight))]"
   ]
  },
  {
   "cell_type": "code",
   "execution_count": 4,
   "metadata": {},
   "outputs": [],
   "source": [
    "def create_copy(schema):\n",
    "    schema_copy = [[0]*int(Width/rectWidth) for i in range(int(Height/rectHeight))]\n",
    "    for i in range(1, len(schema)-1):\n",
    "        for j in range(1, len(schema[0])-1):\n",
    "            schema_copy[i][j] = schema[i][j]\n",
    "    return schema_copy\n"
   ]
  },
  {
   "cell_type": "code",
   "execution_count": 5,
   "metadata": {},
   "outputs": [],
   "source": [
    "def draw(screen, schema, schema_copy,rectwidth, rectHeight, color):\n",
    "    for i in range(len(schema)):\n",
    "        for j in range(len(schema[0])):\n",
    "            if schema_copy[i][j] == 1 and schema[i][j] != 1:    \n",
    "                pygame.draw.rect(screen, color, (j*rectwidth, i*rectHeight, rectwidth, rectHeight))\n",
    "            elif schema_copy[i][j] == 1:\n",
    "                pygame.draw.rect(screen, BLACK, (j*rectwidth, i*rectHeight, rectwidth, rectHeight))\n",
    "            elif schema_copy[i][j] == 0:\n",
    "                pygame.draw.rect(screen, WHITE, (j*rectwidth, i*rectHeight, rectwidth, rectHeight))"
   ]
  },
  {
   "cell_type": "code",
   "execution_count": 6,
   "metadata": {},
   "outputs": [],
   "source": [
    "def simulate(screen):\n",
    "    global schema\n",
    "    schema_copy = create_copy(schema)\n",
    "    for i in range(1,len(schema)-1):\n",
    "        for j in range(1,len(schema[0])-1):\n",
    "            s=0\n",
    "            if schema[i][j] == 1:\n",
    "                for k in range(i-1, i+2):\n",
    "                    for l in range(j-1, j+2):\n",
    "                        if k!=i or l!=j:\n",
    "                            if schema[k][l] == 1:\n",
    "                                s+=1\n",
    "                if s <2 or s>3:\n",
    "                    schema_copy[i][j] = 0\n",
    "            elif schema[i][j] == 0:\n",
    "                for k in range(i-1, i+2):\n",
    "                    for l in range(j-1, j+2):\n",
    "                        if k!=i or l!=j:\n",
    "                             if schema[k][l] == 1:\n",
    "                                    s+=1 \n",
    "                if s==3:\n",
    "                    schema_copy[i][j] = 1\n",
    "                    color = GREEN\n",
    "\n",
    "    draw(screen, schema, schema_copy,rectWidth, rectHeight, color)\n",
    "    schema = schema_copy\n",
    "    \n",
    "    "
   ]
  },
  {
   "cell_type": "code",
   "execution_count": 7,
   "metadata": {},
   "outputs": [],
   "source": [
    "def random_schema(screen, schema, rectWidth, rectHeight):\n",
    "    for i in range(200):\n",
    "        x = randint(0, len(schema)-1)\n",
    "        y = randint(0, len(schema[0])-1)\n",
    "        schema[x][y] = 1\n",
    "        pygame.draw.rect(screen, BLACK, (y*rectWidth, x*rectHeight, rectWidth, rectHeight))      \n",
    "            "
   ]
  },
  {
   "cell_type": "code",
   "execution_count": 8,
   "metadata": {},
   "outputs": [],
   "source": [
    "def draw_rect(screen, x, y, schema, rectWidth, rectHeight):\n",
    "    j=x//rectWidth\n",
    "    i=y//rectHeight\n",
    "    if schema[i][j] == 1:\n",
    "        pygame.draw.rect(screen, WHITE, (j*rectWidth, i*rectHeight, rectWidth, rectHeight))\n",
    "        schema[i][j] = 0\n",
    "    elif schema[i][j] == 0:\n",
    "        pygame.draw.rect(screen, BLACK, (j*rectWidth, i*rectHeight, rectWidth, rectHeight))\n",
    "        schema[i][j] = 1"
   ]
  },
  {
   "cell_type": "code",
   "execution_count": 9,
   "metadata": {},
   "outputs": [],
   "source": [
    "def draw_grid(screen, Width, Height, rectHeight, rectWidth, color):        \n",
    "    for i in range(len(schema[0])):\n",
    "        pygame.draw.lines(screen, color, False, [(i*rectHeight,0), (i*rectHeight,Height)], 1)\n",
    "    for i in range(len(schema)):\n",
    "        pygame.draw.lines(screen, color, False, [(0,i*rectWidth), (Width,i*rectWidth)], 1)"
   ]
  },
  {
   "cell_type": "code",
   "execution_count": 10,
   "metadata": {},
   "outputs": [],
   "source": [
    "def main():\n",
    "    global schema\n",
    "    pygame.init()\n",
    "    screen = pygame.display.set_mode([Width, Height])\n",
    "    screen.fill(WHITE)\n",
    "    pygame.display.set_caption('Game Of Toudert')\n",
    "    draw_grid(screen, Width, Height, rectHeight, rectWidth, GRAY)\n",
    "    clock = pygame.time.Clock()\n",
    "    schema = [[0]*int(Width/rectWidth) for i in range(int(Height/rectHeight))]\n",
    "    font = pygame.font.SysFont('freesansbold.ttf', 32)\n",
    "    running = True\n",
    "    text = font.render('s = start, n = new schema, r = random schema', True, BLACK)   \n",
    "    screen.blit(text,(10, 460))\n",
    "    while running:\n",
    "        for event in pygame.event.get():\n",
    "            if event.type == pygame.QUIT:\n",
    "                pygame.quit()\n",
    "            elif event.type == pygame.MOUSEBUTTONUP:\n",
    "                (x, y) = pygame.mouse.get_pos()\n",
    "                draw_rect(screen, x, y, schema, rectWidth, rectHeight)\n",
    "                \n",
    "            elif event.type == pygame.KEYDOWN:\n",
    "                if event.key == pygame.K_r:\n",
    "                    random_schema(screen, schema, rectWidth, rectHeight)\n",
    "                elif event.key ==pygame.K_s:\n",
    "                    while True:\n",
    "                        simulate(screen)\n",
    "                        draw_grid(screen, Width, Height, rectHeight, rectWidth, GRAY)\n",
    "                        for event in pygame.event.get():\n",
    "                            if event.type == pygame.QUIT:\n",
    "                                pygame.quit()\n",
    "                            elif event.type == pygame.KEYDOWN:\n",
    "                                if event.key == pygame.K_n:\n",
    "                                    schema = [[0]*int(Width/rectWidth) for i in range(int(Height/rectHeight))]\n",
    "                                    main()\n",
    "                            elif event.type == pygame.MOUSEBUTTONUP:\n",
    "                                (x, y) = pygame.mouse.get_pos()\n",
    "                                draw_rect(screen, x, y, schema, rectWidth, rectHeight)\n",
    "                        pygame.display.update()\n",
    "                        clock.tick(10)\n",
    "            pygame.display.update()\n",
    "            \n",
    "    pygame.quit()\n",
    "                \n",
    "    "
   ]
  },
  {
   "cell_type": "code",
   "execution_count": 11,
   "metadata": {},
   "outputs": [
    {
     "ename": "error",
     "evalue": "video system not initialized",
     "output_type": "error",
     "traceback": [
      "\u001b[0;31m---------------------------------------------------------------------------\u001b[0m",
      "\u001b[0;31merror\u001b[0m                                     Traceback (most recent call last)",
      "\u001b[0;32m<ipython-input-11-263240bbee7e>\u001b[0m in \u001b[0;36m<module>\u001b[0;34m\u001b[0m\n\u001b[0;32m----> 1\u001b[0;31m \u001b[0mmain\u001b[0m\u001b[0;34m(\u001b[0m\u001b[0;34m)\u001b[0m\u001b[0;34m\u001b[0m\u001b[0;34m\u001b[0m\u001b[0m\n\u001b[0m",
      "\u001b[0;32m<ipython-input-10-01703d428247>\u001b[0m in \u001b[0;36mmain\u001b[0;34m()\u001b[0m\n\u001b[1;32m     39\u001b[0m                         \u001b[0mpygame\u001b[0m\u001b[0;34m.\u001b[0m\u001b[0mdisplay\u001b[0m\u001b[0;34m.\u001b[0m\u001b[0mupdate\u001b[0m\u001b[0;34m(\u001b[0m\u001b[0;34m)\u001b[0m\u001b[0;34m\u001b[0m\u001b[0;34m\u001b[0m\u001b[0m\n\u001b[1;32m     40\u001b[0m                         \u001b[0mclock\u001b[0m\u001b[0;34m.\u001b[0m\u001b[0mtick\u001b[0m\u001b[0;34m(\u001b[0m\u001b[0;36m10\u001b[0m\u001b[0;34m)\u001b[0m\u001b[0;34m\u001b[0m\u001b[0;34m\u001b[0m\u001b[0m\n\u001b[0;32m---> 41\u001b[0;31m             \u001b[0mpygame\u001b[0m\u001b[0;34m.\u001b[0m\u001b[0mdisplay\u001b[0m\u001b[0;34m.\u001b[0m\u001b[0mupdate\u001b[0m\u001b[0;34m(\u001b[0m\u001b[0;34m)\u001b[0m\u001b[0;34m\u001b[0m\u001b[0;34m\u001b[0m\u001b[0m\n\u001b[0m\u001b[1;32m     42\u001b[0m \u001b[0;34m\u001b[0m\u001b[0m\n\u001b[1;32m     43\u001b[0m     \u001b[0mpygame\u001b[0m\u001b[0;34m.\u001b[0m\u001b[0mquit\u001b[0m\u001b[0;34m(\u001b[0m\u001b[0;34m)\u001b[0m\u001b[0;34m\u001b[0m\u001b[0;34m\u001b[0m\u001b[0m\n",
      "\u001b[0;31merror\u001b[0m: video system not initialized"
     ]
    }
   ],
   "source": [
    "main()"
   ]
  }
 ],
 "metadata": {
  "kernelspec": {
   "display_name": "Python 3",
   "language": "python",
   "name": "python3"
  },
  "language_info": {
   "codemirror_mode": {
    "name": "ipython",
    "version": 3
   },
   "file_extension": ".py",
   "mimetype": "text/x-python",
   "name": "python",
   "nbconvert_exporter": "python",
   "pygments_lexer": "ipython3",
   "version": "3.7.6"
  }
 },
 "nbformat": 4,
 "nbformat_minor": 2
}
