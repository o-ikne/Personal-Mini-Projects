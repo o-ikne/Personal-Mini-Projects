{
 "cells": [
  {
   "cell_type": "markdown",
   "metadata": {},
   "source": [
    "# Game Of Life"
   ]
  },
  {
   "cell_type": "markdown",
   "metadata": {},
   "source": [
    "## Rules \n",
    "\n",
    ">Any live cell with two or three live neighbours survives.\n",
    "\n",
    ">Any dead cell with three live neighbours becomes a live cell.\n",
    "\n",
    ">All other live cells die in the next generation. Similarly, all other dead cells stay dead."
   ]
  },
  {
   "cell_type": "markdown",
   "metadata": {},
   "source": [
    "## Liberaires"
   ]
  },
  {
   "cell_type": "code",
   "execution_count": 1,
   "metadata": {},
   "outputs": [
    {
     "name": "stdout",
     "output_type": "stream",
     "text": [
      "pygame 1.9.6\n",
      "Hello from the pygame community. https://www.pygame.org/contribute.html\n"
     ]
    }
   ],
   "source": [
    "import pygame\n",
    "import numpy as np"
   ]
  },
  {
   "cell_type": "markdown",
   "metadata": {},
   "source": [
    "## Parameters and colors"
   ]
  },
  {
   "cell_type": "code",
   "execution_count": 2,
   "metadata": {},
   "outputs": [],
   "source": [
    "## Dimensions of the grid\n",
    "w  = 800  # the width of the grid\n",
    "h  = 500  # the height of the grid\n",
    "rw = 20    # the width of the cells of the grid\n",
    "rh = 20    # the height of the cells of the grid\n",
    "\n",
    "## Colors\n",
    "GREEN = (34,139,34)\n",
    "WHITE = (255,255,255)\n",
    "GRAY  = (128,128,128)\n",
    "RED   = (255, 0, 0)\n",
    "BLACK = (0, 0, 0)\n",
    "BLUE  = (28,128,130)"
   ]
  },
  {
   "cell_type": "markdown",
   "metadata": {},
   "source": [
    "## Tha Grid Class"
   ]
  },
  {
   "cell_type": "code",
   "execution_count": 3,
   "metadata": {},
   "outputs": [],
   "source": [
    "class Grid(object):\n",
    "    \n",
    "    def __init__(self, w:int=w, h:int=h, rw:int=rw, rh:int=rh, c:tuple=GRAY):\n",
    "        self.w     = w  # the width of the grid\n",
    "        self.h     = h  # the height of the grid\n",
    "        self.rw    = rw # the width of the cells\n",
    "        self.rh    = rh # the height of the cells\n",
    "        self.color = c  # the color of the grid lines\n",
    "        self.create_grid() # create the grid\n",
    "        self.copy = self.create_copy()\n",
    "        self.step = 0\n",
    "        \n",
    "        \n",
    "    def create_grid(self):\n",
    "        \"\"\"create a numpy array which represente the grid\"\"\"\n",
    "        self.grid = np.zeros((self.h // self.rh, self.w // self.rw)).astype('int')\n",
    "        \n",
    "    def create_copy(self):\n",
    "        return self.grid.copy()\n",
    "    \n",
    "    def draw_grid(self, screen:pygame.display.set_mode):\n",
    "        \"\"\"draw a grid on the screen with the given dimensions\"\"\"\n",
    "        ## draw the vertical lines\n",
    "        for i in range(self.w // self.rw + 1):\n",
    "            pygame.draw.lines(screen, self.color, False, [(i * self.rh, 0), (i * self.rh, self.h)], 1)\n",
    "\n",
    "        ## draw the horizontal lines\n",
    "        for i in range(h // rh + 1):\n",
    "            pygame.draw.lines(screen, self.color, False, [(0, i * self.rw), (self.w, i * self.rw)], 1)\n",
    "            \n",
    "    def set_cell_number(self, i:int, j:int):\n",
    "        self.grid[i, j] = int(not self.grid[i, j])\n",
    "        \n",
    "    def set_cell_color(self, i:int, j:int, screen):\n",
    "        if self.grid[i, j]:\n",
    "            color = BLACK\n",
    "        else:\n",
    "            color = WHITE\n",
    "        pygame.draw.rect(screen, color, (j*self.rw + 1, i*self.rh + 1, self.rw - 1, self.rh - 1))\n",
    "        \n",
    "    \n",
    "    def update_cell(self, x:np.float, y:np.float, screen):\n",
    "        (i, j) = (y // self.rw, x // self.rh)\n",
    "        self.grid[i, j] = int(not self.grid[i, j])\n",
    "        self.set_cell_color(i, j,screen)\n",
    "        \n",
    "    def random_schema(self, screen:pygame.display.set_mode, n:int):\n",
    "        r1 = np.random.randint(0, self.grid.shape[0], n)\n",
    "        r2 = np.random.randint(0, self.grid.shape[1], n)\n",
    "        self.grid[r1, r2] = 1\n",
    "        self.draw_cells(screen)\n",
    "        \n",
    "    def update(self):\n",
    "        for i in range(self.grid.shape[0]):\n",
    "            for j in range(self.grid.shape[1]):\n",
    "                nb_neighbours = self.number_of_alive_neighbours(i, j)\n",
    "                if self.grid[i, j]:\n",
    "                    if nb_neighbours < 2 or nb_neighbours > 3:\n",
    "                        self.copy[i, j] = 0\n",
    "                else:\n",
    "                    if nb_neighbours == 3:\n",
    "                        self.copy[i, j] = 1.\n",
    "        self.step += 1\n",
    "            \n",
    "    def number_of_alive_neighbours(self, i:int, j:int)->int:\n",
    "        i_min, i_max = np.max([0, i - 1]), np.min([self.grid.shape[0], i + 2])\n",
    "        j_min, j_max = np.max([0, j - 1]), np.min([self.grid.shape[1], j + 2])\n",
    "        sub_grid = self.grid[i_min:i_max, j_min:j_max]\n",
    "        bool_grid = sub_grid[sub_grid == 1.]\n",
    "        return bool_grid.shape[0] - self.grid[i, j]\n",
    "    \n",
    "    def draw_cells(self, screen:pygame.display.set_mode):\n",
    "        for i in range(self.grid.shape[0]):\n",
    "            for j in range(self.grid.shape[1]):\n",
    "                self.set_cell_color(i, j, screen)\n",
    "        \n",
    "    def update_cells_color(self, screen:pygame.display.set_mode):\n",
    "        for i in range(len(self.grid)):\n",
    "            for j in range(len(self.grid[0])):\n",
    "                if self.copy[i, j] == 1 and self.grid[i, j] != 1:    \n",
    "                    color = RED\n",
    "                elif self.copy[i, j] == 1:\n",
    "                    color = BLACK\n",
    "                elif self.copy[i, j] == 0:\n",
    "                    color = WHITE\n",
    "                pygame.draw.rect(screen, color, (j*self.rw + 1, i*self.rh + 1, self.rw - 1, self.rh - 1))                    "
   ]
  },
  {
   "cell_type": "markdown",
   "metadata": {},
   "source": [
    "## The main function"
   ]
  },
  {
   "cell_type": "code",
   "execution_count": 4,
   "metadata": {},
   "outputs": [],
   "source": [
    "def main():\n",
    "    pygame.init()\n",
    "    screen = pygame.display.set_mode([w, h + 50])\n",
    "    screen.fill(WHITE)\n",
    "    pygame.display.set_caption('Game Of Life')\n",
    "    clock = pygame.time.Clock()\n",
    "    \n",
    "    grid = Grid()\n",
    "    grid.draw_grid(screen)\n",
    "    font = pygame.font.SysFont('Arial', 18)\n",
    "    counter_text = f'step : {grid.step}'\n",
    "    text2 = font.render(counter_text, True, BLACK)\n",
    "    text = font.render('space:start(pause) n:new r:random', True, BLACK)   \n",
    "    screen.blit(text,(10, h + 5))\n",
    "    screen.blit(text2, (w - 120, h + 2))\n",
    "    \n",
    "    running = True\n",
    "\n",
    "    while running:\n",
    "        for event in pygame.event.get():\n",
    "            if event.type == pygame.QUIT:\n",
    "                pygame.quit()\n",
    "                \n",
    "            elif event.type == pygame.MOUSEBUTTONUP:\n",
    "                (x, y) = pygame.mouse.get_pos()\n",
    "                grid.update_cell(x, y, screen)\n",
    "                \n",
    "            elif event.type == pygame.KEYDOWN:\n",
    "                if event.key == pygame.K_r:\n",
    "                    grid.random_schema(screen, n=w//rw)\n",
    "                    \n",
    "                elif event.key ==pygame.K_SPACE:\n",
    "                    simulate = True            \n",
    "                    while simulate:\n",
    "                        grid.copy = grid.create_copy()\n",
    "                        grid.update()\n",
    "                        grid.update_cells_color(screen)\n",
    "                        \n",
    "                        if (grid.grid == grid.copy).all():\n",
    "                            simulate = False\n",
    "                        \n",
    "                        grid.grid = grid.copy\n",
    "                        counter_text = f'step : {grid.step}'\n",
    "                        text2 = font.render(counter_text, True, BLACK)\n",
    "                        pygame.draw.rect(screen, WHITE, (w-120, h+1, 120, 50))\n",
    "                        screen.blit(text2, (w - 120, h + 2))\n",
    "                        \n",
    "                        for event in pygame.event.get():\n",
    "                            if event.type == pygame.QUIT:\n",
    "                                pygame.quit()\n",
    "                                \n",
    "                            elif event.type == pygame.MOUSEBUTTONUP:\n",
    "                                (x, y) = pygame.mouse.get_pos()\n",
    "                                grid.update_cell(x, y, screen)\n",
    "                                \n",
    "                            elif event.type == pygame.KEYDOWN:\n",
    "                                if event.key == pygame.K_n:\n",
    "                                    grid.create_grid()\n",
    "                                    grid.step = 0\n",
    "                                    simulate = False\n",
    "                                    \n",
    "                                elif event.key ==pygame.K_SPACE:\n",
    "                                    simulate = not simulate\n",
    "                               \n",
    "                        pygame.display.update()\n",
    "                        clock.tick(10)\n",
    "            pygame.display.update()\n",
    "            \n",
    "    pygame.quit()"
   ]
  },
  {
   "cell_type": "code",
   "execution_count": 5,
   "metadata": {},
   "outputs": [
    {
     "ename": "error",
     "evalue": "video system not initialized",
     "output_type": "error",
     "traceback": [
      "\u001b[0;31m---------------------------------------------------------------------------\u001b[0m",
      "\u001b[0;31merror\u001b[0m                                     Traceback (most recent call last)",
      "\u001b[0;32m<ipython-input-5-c7bc734e5e35>\u001b[0m in \u001b[0;36m<module>\u001b[0;34m\u001b[0m\n\u001b[1;32m      1\u001b[0m \u001b[0;32mif\u001b[0m \u001b[0m__name__\u001b[0m \u001b[0;34m==\u001b[0m \u001b[0;34m'__main__'\u001b[0m\u001b[0;34m:\u001b[0m\u001b[0;34m\u001b[0m\u001b[0;34m\u001b[0m\u001b[0m\n\u001b[0;32m----> 2\u001b[0;31m     \u001b[0mmain\u001b[0m\u001b[0;34m(\u001b[0m\u001b[0;34m)\u001b[0m\u001b[0;34m\u001b[0m\u001b[0;34m\u001b[0m\u001b[0m\n\u001b[0m",
      "\u001b[0;32m<ipython-input-4-ef6bc417d6ee>\u001b[0m in \u001b[0;36mmain\u001b[0;34m()\u001b[0m\n\u001b[1;32m     65\u001b[0m                                     \u001b[0msimulate\u001b[0m \u001b[0;34m=\u001b[0m \u001b[0;32mnot\u001b[0m \u001b[0msimulate\u001b[0m\u001b[0;34m\u001b[0m\u001b[0;34m\u001b[0m\u001b[0m\n\u001b[1;32m     66\u001b[0m \u001b[0;34m\u001b[0m\u001b[0m\n\u001b[0;32m---> 67\u001b[0;31m                         \u001b[0mpygame\u001b[0m\u001b[0;34m.\u001b[0m\u001b[0mdisplay\u001b[0m\u001b[0;34m.\u001b[0m\u001b[0mupdate\u001b[0m\u001b[0;34m(\u001b[0m\u001b[0;34m)\u001b[0m\u001b[0;34m\u001b[0m\u001b[0;34m\u001b[0m\u001b[0m\n\u001b[0m\u001b[1;32m     68\u001b[0m                         \u001b[0mclock\u001b[0m\u001b[0;34m.\u001b[0m\u001b[0mtick\u001b[0m\u001b[0;34m(\u001b[0m\u001b[0;36m10\u001b[0m\u001b[0;34m)\u001b[0m\u001b[0;34m\u001b[0m\u001b[0;34m\u001b[0m\u001b[0m\n\u001b[1;32m     69\u001b[0m             \u001b[0mpygame\u001b[0m\u001b[0;34m.\u001b[0m\u001b[0mdisplay\u001b[0m\u001b[0;34m.\u001b[0m\u001b[0mupdate\u001b[0m\u001b[0;34m(\u001b[0m\u001b[0;34m)\u001b[0m\u001b[0;34m\u001b[0m\u001b[0;34m\u001b[0m\u001b[0m\n",
      "\u001b[0;31merror\u001b[0m: video system not initialized"
     ]
    }
   ],
   "source": [
    "if __name__ == '__main__':\n",
    "    main()"
   ]
  },
  {
   "cell_type": "code",
   "execution_count": null,
   "metadata": {},
   "outputs": [],
   "source": []
  }
 ],
 "metadata": {
  "kernelspec": {
   "display_name": "Python 3",
   "language": "python",
   "name": "python3"
  },
  "language_info": {
   "codemirror_mode": {
    "name": "ipython",
    "version": 3
   },
   "file_extension": ".py",
   "mimetype": "text/x-python",
   "name": "python",
   "nbconvert_exporter": "python",
   "pygments_lexer": "ipython3",
   "version": "3.7.8"
  }
 },
 "nbformat": 4,
 "nbformat_minor": 4
}
