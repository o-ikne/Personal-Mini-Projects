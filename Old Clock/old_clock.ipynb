{
 "cells": [
  {
   "cell_type": "markdown",
   "metadata": {},
   "source": [
    "# Old Clock"
   ]
  },
  {
   "cell_type": "markdown",
   "metadata": {},
   "source": [
    "## Libraries"
   ]
  },
  {
   "cell_type": "code",
   "execution_count": 86,
   "metadata": {},
   "outputs": [],
   "source": [
    "import pygame\n",
    "from numpy import cos, sin, pi,random\n",
    "from time import strftime, localtime"
   ]
  },
  {
   "cell_type": "markdown",
   "metadata": {},
   "source": [
    "## Color & Parameters"
   ]
  },
  {
   "cell_type": "code",
   "execution_count": 91,
   "metadata": {},
   "outputs": [],
   "source": [
    "## colors\n",
    "GREEN = (34,139,34)\n",
    "WHITE = (255,255,255)\n",
    "GRAY = (128,128,128)\n",
    "RED = (255, 0, 0)\n",
    "BLACK = (0, 0, 0)\n",
    "YELLOW = (255,255,0)\n",
    "BLUE = (28,128,130)\n",
    "MAGENTA = (128,28,128)\n",
    "\n",
    "## Dimensions\n",
    "w = 300\n",
    "h = 600"
   ]
  },
  {
   "cell_type": "markdown",
   "metadata": {},
   "source": [
    "## Clock"
   ]
  },
  {
   "cell_type": "code",
   "execution_count": 92,
   "metadata": {},
   "outputs": [],
   "source": [
    "class Clock(object):\n",
    "    def __init__(self, center:tuple, time=strftime('%H:%M:%S', localtime()), radius=50, l_pointer=300):\n",
    "        self.x = 0\n",
    "        self.y = 0\n",
    "        self.center = center\n",
    "        self.time = time\n",
    "        self.radius = radius\n",
    "        self.teta = 575\n",
    "        self.l_pointer = l_pointer\n",
    "        self.dteta = -1\n",
    "        self.color = BLUE\n",
    "\n",
    "    def update(self):  \n",
    "        \"\"\"update the time and the position of the pointer\"\"\"\n",
    "        self.time = strftime('%H:%M:%S', localtime())\n",
    "        self.x = self.center[0] + self.l_pointer * cos(self.teta / 360)\n",
    "        self.y = self.center[1] + self.l_pointer * sin(self.teta / 360) \n",
    "        self.teta += self.dteta\n",
    "        if self.teta <450 or self.teta >680:\n",
    "            self.dteta = -self.dteta\n",
    "            self.set_color()\n",
    "            \n",
    "    def set_color(self):\n",
    "        \"\"\"set a random color\"\"\"\n",
    "        self.color = random.randint(0, 255, 3)\n",
    "            \n",
    "    def draw_text(self, screen, font):\n",
    "        \"\"\"draw the text on the screen\"\"\"\n",
    "        time_text    = font.render(self.time[:5], True, self.color)\n",
    "        seconds_text = font.render(self.time[6:8], True, self.color)\n",
    "        date_text    = font.render(strftime('%Y-%m-%d', localtime()), True, self.color)\n",
    "        \n",
    "        screen.blit(seconds_text, (self.x - 10, self.y - 10))\n",
    "        screen.blit(time_text, (w//3 + 30, h - 100))\n",
    "        screen.blit(date_text, (w//3, h - 50))\n",
    "        \n",
    "    def draw(self, screen):\n",
    "        \"\"\"draw the clock on the screen\"\"\"\n",
    "        pygame.draw.circle(screen, self.color, (int(self.x), int(self.y)), self.radius, 1)\n",
    "        pygame.draw.circle(screen, self.color, (int(self.center[0]), int(self.center[1])), 10)"
   ]
  },
  {
   "cell_type": "markdown",
   "metadata": {},
   "source": [
    "## Main function"
   ]
  },
  {
   "cell_type": "code",
   "execution_count": 93,
   "metadata": {},
   "outputs": [],
   "source": [
    "def main():\n",
    "    pygame.init()\n",
    "    screen = pygame.display.set_mode((w, h))\n",
    "    pygame.display.set_caption('Old Clock')\n",
    "    pygame_clock = pygame.time.Clock()\n",
    "    running = True\n",
    "    clock = Clock(center=(w//2, h//6))\n",
    "    font = pygame.font.SysFont('Decorative', 30)\n",
    "    while running:\n",
    "        for event in pygame.event.get():\n",
    "            if event.type == pygame.QUIT:\n",
    "                running = False\n",
    "                \n",
    "        screen.fill(BLACK)\n",
    "        clock.update()\n",
    "        clock.draw_text(screen, font)\n",
    "        clock.draw(screen)\n",
    "        \n",
    "        pygame.display.update()\n",
    "        pygame_clock.tick(250)\n",
    "             \n",
    "    pygame.quit()\n",
    "                "
   ]
  },
  {
   "cell_type": "code",
   "execution_count": 94,
   "metadata": {},
   "outputs": [],
   "source": [
    "if __name__ == '__main__':\n",
    "    main()"
   ]
  },
  {
   "cell_type": "code",
   "execution_count": null,
   "metadata": {},
   "outputs": [],
   "source": []
  }
 ],
 "metadata": {
  "kernelspec": {
   "display_name": "Python 3",
   "language": "python",
   "name": "python3"
  },
  "language_info": {
   "codemirror_mode": {
    "name": "ipython",
    "version": 3
   },
   "file_extension": ".py",
   "mimetype": "text/x-python",
   "name": "python",
   "nbconvert_exporter": "python",
   "pygments_lexer": "ipython3",
   "version": "3.7.8"
  }
 },
 "nbformat": 4,
 "nbformat_minor": 4
}
