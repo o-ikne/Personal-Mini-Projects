{
 "cells": [
  {
   "cell_type": "markdown",
   "metadata": {},
   "source": [
    "# Langton's Ant"
   ]
  },
  {
   "cell_type": "markdown",
   "metadata": {},
   "source": [
    "## Rules\n",
    "\n",
    "> At a white square, turn 90° clockwise, flip the color of the square, move forward one unit\n",
    "\n",
    "> At a black square, turn 90° counter-clockwise, flip the color of the square, move forward one unit"
   ]
  },
  {
   "cell_type": "markdown",
   "metadata": {},
   "source": [
    "## Libraries"
   ]
  },
  {
   "cell_type": "code",
   "execution_count": 2,
   "metadata": {},
   "outputs": [
    {
     "name": "stdout",
     "output_type": "stream",
     "text": [
      "pygame 1.9.6\n",
      "Hello from the pygame community. https://www.pygame.org/contribute.html\n"
     ]
    }
   ],
   "source": [
    "import pygame\n",
    "import numpy as np"
   ]
  },
  {
   "cell_type": "markdown",
   "metadata": {},
   "source": [
    "## Parameters and colors"
   ]
  },
  {
   "cell_type": "code",
   "execution_count": 3,
   "metadata": {},
   "outputs": [],
   "source": [
    "## Dimensions of the grid\n",
    "w  = 800  # the width of the grid\n",
    "h  = 500  # the height of the grid\n",
    "rw = 5    # the width of the cells of the grid\n",
    "rh = 5    # the height of the cells of the grid\n",
    "\n",
    "## Colors\n",
    "GREEN = (34,139,34)\n",
    "WHITE = (255,255,255)\n",
    "GRAY = (128,128,128)\n",
    "RED = (255, 0, 0)\n",
    "BLACK = (0, 0, 0)\n",
    "BLUE = (28,128,130)"
   ]
  },
  {
   "cell_type": "markdown",
   "metadata": {},
   "source": [
    "## The Grid Class"
   ]
  },
  {
   "cell_type": "code",
   "execution_count": 6,
   "metadata": {},
   "outputs": [],
   "source": [
    "class Grid(object):\n",
    "    \n",
    "    def __init__(self, w:int=w, h:int=h, rw:int=rw, rh:int=rh, c:tuple=GRAY):\n",
    "        self.w     = w  # the width of the grid\n",
    "        self.h     = h  # the height of the grid\n",
    "        self.rw    = rw # the width of the cells\n",
    "        self.rh    = rh # the height of the cells\n",
    "        self.color = c  # the color of the grid lines\n",
    "        self.create_grid() # create the grid\n",
    "        \n",
    "        \n",
    "    def create_grid(self):\n",
    "        \"\"\"create a numpy array which represente the grid\"\"\"\n",
    "        self.grid = np.zeros((self.h // self.rh, self.w // self.rw)).astype('int')\n",
    "        \n",
    "    def draw_grid(self, screen:pygame.display.set_mode):\n",
    "        \"\"\"draw a grid on the screen with the given dimensions\"\"\"\n",
    "        ## draw the vertical lines\n",
    "        for i in range(self.w // self.rw + 1):\n",
    "            pygame.draw.lines(screen, self.color, False, [(i * self.rh, 0), (i * self.rh, self.h)], 1)\n",
    "\n",
    "        ## draw the horizontal lines\n",
    "        for i in range(h // rh + 1):\n",
    "            pygame.draw.lines(screen, self.color, False, [(0, i * self.rw), (self.w, i * self.rw)], 1)\n",
    "            \n",
    "            \n",
    "    def draw_cell(self, screen:pygame.display.set_mode, i:int, j:int):\n",
    "        \"\"\"update the color of the cell (i, j)\"\"\"\n",
    "        \n",
    "        ## 1 for black color 0 for white\n",
    "        if self.grid[i, j] == 1:\n",
    "            cell_color = BLACK\n",
    "        else:\n",
    "            cell_color = WHITE\n",
    "        pygame.draw.rect(screen, cell_color, (j*self.rw + 1, i*self.rh + 1, rw - 1, rh - 1))"
   ]
  },
  {
   "cell_type": "markdown",
   "metadata": {},
   "source": [
    "## The Ant Class"
   ]
  },
  {
   "cell_type": "code",
   "execution_count": 8,
   "metadata": {},
   "outputs": [],
   "source": [
    "class Ant(object):\n",
    "    \n",
    "    def __init__(self, x:int, y:int, vx:int=0, vy:int=1, c:tuple=RED):\n",
    "        self.x     = x  # the x coordinate of the ant\n",
    "        self.y     = y  # the y coordiante of the ant\n",
    "        self.vx    = vx # the x velocity of the ant\n",
    "        self.vy    = vy # the y velocity of the ant\n",
    "        self.color = c  # the color of the ant\n",
    "        self.step  = 0  # the number of steps that the ant has done\n",
    "        \n",
    "        \n",
    "    def update_cell(self, grid:Grid):\n",
    "        \"\"\"update the color of the cell on which the ant is standing\"\"\"\n",
    "        \n",
    "        ## getting the number of the cell on which the ant is on\n",
    "        i = int(self.y // grid.rh) % grid.grid.shape[0]\n",
    "        j = int(self.x // grid.rw) % grid.grid.shape[1]\n",
    "        \n",
    "        ## getting the color of the cell on which the ant is on\n",
    "        cell = grid.grid[i, j]\n",
    "        \n",
    "        ## if the color of the cell is black turn 90° counter-clockwise\n",
    "        if cell == 1:\n",
    "            self.vx, self.vy = self.vy, -self.vx\n",
    "            cell = 0\n",
    "            \n",
    "        ## if the color of the cell is white turn 90° clockwise\n",
    "        else:\n",
    "            self.vy, self.vx = self.vx, -self.vy\n",
    "            cell = 1\n",
    "           \n",
    "        ## switching the value of the cell to the new value\n",
    "        grid.grid[i, j] = cell\n",
    "        \n",
    "        \n",
    "    def update(self, grid:Grid):\n",
    "        \"\"\"update the postion of the ant\"\"\"\n",
    "        \n",
    "        self.x += self.vx * grid.rw\n",
    "        self.y += self.vy * grid.rh\n",
    "        self.step += 1\n",
    "        \n",
    "    def draw(self, screen:pygame.display.set_mode):\n",
    "        \"\"\"draw the ant on the screen\"\"\"\n",
    "        \n",
    "        self.x = rw * (self.x // rw)\n",
    "        self.y = rh * (self.y // rh)\n",
    "        pygame.draw.rect(screen, self.color, (self.x + 1, self.y + 1, rw - 1, rh - 1))"
   ]
  },
  {
   "cell_type": "code",
   "execution_count": 26,
   "metadata": {},
   "outputs": [],
   "source": [
    "def main():\n",
    "    pygame.init()\n",
    "    \n",
    "    ## initiating the screen\n",
    "    screen = pygame.display.set_mode((w, h + 50))\n",
    "    pygame.display.set_caption('Ants')\n",
    "    screen.fill(WHITE)\n",
    "    clock = pygame.time.Clock()\n",
    "    \n",
    "    ## create the ant\n",
    "    ant = Ant(x=w//2- rw, y=h//2 - rh)\n",
    "    \n",
    "    ## create the grid\n",
    "    grid = Grid()\n",
    "    grid.draw_grid(screen)\n",
    "    ant.draw(screen)\n",
    "    \n",
    "    ##  adding text to the screen\n",
    "    font = pygame.font.SysFont('Arial', 18)\n",
    "    \n",
    "    start_text = \"press SPACE to start or to pause\"\n",
    "    counter_text = f'step : {ant.step}'\n",
    "    text1 = font.render(start_text, True, BLACK)\n",
    "    text2 = font.render(counter_text, True, BLACK)\n",
    "    screen.blit(text1, (10, h + 2))\n",
    "    screen.blit(text2, (w - 120, h + 2))\n",
    "    \n",
    "    running = True\n",
    "    while running:\n",
    "        \n",
    "        for event in pygame.event.get():\n",
    "            if event.type == pygame.QUIT:\n",
    "                running = False\n",
    "                \n",
    "            elif event.type == pygame.MOUSEBUTTONUP:\n",
    "                point = pygame.mouse.get_pos()\n",
    "                (i, j) = (point[1] // grid.rw, point[0] // grid.rh)\n",
    "                grid.grid[i, j] = int(not grid.grid[i, j])\n",
    "                grid.draw_cell(screen, i, j)\n",
    "                ant.draw(screen)\n",
    "                \n",
    "            elif event.type == pygame.KEYDOWN:\n",
    "                if event.key == pygame.K_SPACE:\n",
    "                    simulate = True\n",
    "                    while simulate:\n",
    "                        ant.update_cell(grid)\n",
    "                        (i, j) = int(ant.y // grid.rw) % grid.grid.shape[0], int(ant.x // grid.rh) % grid.grid.shape[1]\n",
    "                        grid.draw_cell(screen, i, j)\n",
    "                        ant.update(grid)\n",
    "                        ant.draw(screen)\n",
    "                        counter_text = f'step : {ant.step}'\n",
    "                        text4 = font.render(counter_text, True, BLACK)\n",
    "                        pygame.draw.rect(screen, WHITE, (w-120, h+1, 120, 50))\n",
    "                        screen.blit(text4, (w - 120, h + 2))\n",
    "                        pygame.display.update()\n",
    "                        for event in pygame.event.get():\n",
    "                            if event.type == pygame.QUIT:\n",
    "                                simulate = False\n",
    "                                running  = False\n",
    "                            if event.type == pygame.KEYDOWN:\n",
    "                                if event.key == pygame.K_SPACE:\n",
    "                                    simulate = not simulate\n",
    "        pygame.display.update()\n",
    "\n",
    "    pygame.quit()      "
   ]
  },
  {
   "cell_type": "code",
   "execution_count": 25,
   "metadata": {},
   "outputs": [],
   "source": [
    "if __name__ == '__main__':\n",
    "    main()"
   ]
  }
 ],
 "metadata": {
  "kernelspec": {
   "display_name": "Python 3",
   "language": "python",
   "name": "python3"
  },
  "language_info": {
   "codemirror_mode": {
    "name": "ipython",
    "version": 3
   },
   "file_extension": ".py",
   "mimetype": "text/x-python",
   "name": "python",
   "nbconvert_exporter": "python",
   "pygments_lexer": "ipython3",
   "version": "3.7.8"
  }
 },
 "nbformat": 4,
 "nbformat_minor": 4
}
