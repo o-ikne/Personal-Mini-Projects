{
 "cells": [
  {
   "cell_type": "markdown",
   "metadata": {},
   "source": [
    "# Langton's Ant"
   ]
  },
  {
   "cell_type": "markdown",
   "metadata": {},
   "source": [
    "Wikipedia url : https://en.wikipedia.org/wiki/Langton's_ant"
   ]
  },
  {
   "cell_type": "markdown",
   "metadata": {},
   "source": [
    "## Rules\n",
    "\n",
    "> At a white square, turn 90° clockwise, flip the color of the square, move forward one unit\n",
    "\n",
    "> At a black square, turn 90° counter-clockwise, flip the color of the square, move forward one unit"
   ]
  },
  {
   "cell_type": "markdown",
   "metadata": {},
   "source": [
    "## Liberaires"
   ]
  },
  {
   "cell_type": "code",
   "execution_count": 1,
   "metadata": {},
   "outputs": [
    {
     "name": "stdout",
     "output_type": "stream",
     "text": [
      "pygame 1.9.6\n",
      "Hello from the pygame community. https://www.pygame.org/contribute.html\n"
     ]
    }
   ],
   "source": [
    "import pygame\n",
    "import numpy as np"
   ]
  },
  {
   "cell_type": "markdown",
   "metadata": {},
   "source": [
    "## Parameters and colors"
   ]
  },
  {
   "cell_type": "code",
   "execution_count": 2,
   "metadata": {},
   "outputs": [],
   "source": [
    "## Dimensions of the grid\n",
    "w  = 800  # the width of the grid\n",
    "h  = 500  # the height of the grid\n",
    "rw = 5    # the width of the cells of the grid\n",
    "rh = 5    # the height of the cells of the grid\n",
    "\n",
    "## Colors\n",
    "GREEN = (34,139,34)\n",
    "WHITE = (255,255,255)\n",
    "GRAY = (128,128,128)\n",
    "RED = (255, 0, 0)\n",
    "BLACK = (0, 0, 0)\n",
    "BLUE = (28,128,130)"
   ]
  },
  {
   "cell_type": "markdown",
   "metadata": {},
   "source": [
    "## Ant Class"
   ]
  },
  {
   "cell_type": "code",
   "execution_count": 11,
   "metadata": {},
   "outputs": [],
   "source": [
    "class Grid(object):\n",
    "    \n",
    "    def __init__(self, w:int=w, h:int=h, rw:int=rw, rh:int=rh, c:tuple=GRAY):\n",
    "        self.w = w\n",
    "        self.h = h\n",
    "        self.rw = rw\n",
    "        self.rh = rh\n",
    "        self.color = c\n",
    "        self.create_grid()\n",
    "        \n",
    "    def create_grid(self):\n",
    "        self.grid = np.zeros((self.h // self.rh, self.w // self.rw)).astype('int')\n",
    "        \n",
    "    def draw_grid(self, screen:pygame.display.set_mode):\n",
    "        \"\"\"draw a grid on the screen with the given dimensions\"\"\"\n",
    "        \n",
    "        ## draw the vertical lines\n",
    "        for i in range(self.w // self.rw + 1):\n",
    "            pygame.draw.lines(screen, self.color, False, [(i * self.rh, 0), (i * self.rh, self.h)], 1)\n",
    "\n",
    "        ## draw the horizontal lines\n",
    "        for i in range(h // rh + 1):\n",
    "            pygame.draw.lines(screen, self.color, False, [(0, i * self.rw), (self.w, i * self.rw)], 1)\n",
    "            \n",
    "    def draw_cell(self, screen:pygame.display.set_mode, i, j):\n",
    "        #for i in range(len(self.grid)):\n",
    "           # for j in range(len(self.grid[0])):\n",
    "                if self.grid[i, j] == 1:\n",
    "                    cell_color = BLACK\n",
    "                else:\n",
    "                    cell_color = WHITE\n",
    "                pygame.draw.rect(screen, cell_color, (j*self.rw + 1, i*self.rh + 1, rw - 1, rh - 1))"
   ]
  },
  {
   "cell_type": "code",
   "execution_count": 12,
   "metadata": {},
   "outputs": [],
   "source": [
    "class Ant(object):\n",
    "    \n",
    "    \"\"\"The Ant Class\n",
    "    x  : required : the x coodinate of the ant\n",
    "    y  : required : the y coodinate of the ant\n",
    "    vx : optional : the x veloctiy of the ant\n",
    "    vy : optional : the y velocity of the ant\n",
    "    c  : optional : the color of the ant\n",
    "\n",
    "\"\"\"\n",
    "    \n",
    "    def __init__(self, x:int, y:int, vx:int=0, vy:int=1, c:tuple=RED):\n",
    "        self.x = x\n",
    "        self.y = y\n",
    "        self.vx = vx\n",
    "        self.vy = vy\n",
    "        self.color = c\n",
    "        self.step = 0\n",
    "        \n",
    "    def update_cell(self, grid:Grid):\n",
    "        \"\"\"update the color of the cell on which the ant is standing\"\"\"\n",
    "        \n",
    "        cell = grid.grid[int(self.y // grid.rh) % grid.grid.shape[0], int(self.x // grid.rw) % grid.grid.shape[1]]\n",
    "        \n",
    "        if cell == 1:\n",
    "            if self.vx != 0 and self.vy == 0:\n",
    "                self.vy = -self.vx\n",
    "                self.vx = 0\n",
    "            elif self.vy != 0 and self.vx == 0:\n",
    "                self.vx = self.vy\n",
    "                self.vy = 0\n",
    "            cell = 0\n",
    "            \n",
    "        else:\n",
    "            if self.vx != 0 and self.vy == 0:\n",
    "                self.vy = self.vx\n",
    "                self.vx = 0\n",
    "            elif self.vy != 0 and self.vx == 0:\n",
    "                self.vx = -self.vy\n",
    "                self.vy = 0\n",
    "            cell = 1\n",
    "            \n",
    "        grid.grid[int(self.y // grid.rh) % grid.grid.shape[0], int(self.x // grid.rw) % grid.grid.shape[1]] = cell\n",
    "        \n",
    "        \n",
    "    def update(self, grid:Grid):\n",
    "        \"\"\"update the postion of the ant\"\"\"\n",
    "        \n",
    "        self.x += self.vx * grid.rw\n",
    "        self.y += self.vy * grid.rh\n",
    "        self.step += 1\n",
    "        \n",
    "    def draw(self, screen:pygame.display.set_mode):\n",
    "        \n",
    "        \"\"\"draw the ant on the screen\"\"\"\n",
    "        self.x = rw * (self.x // rw)\n",
    "        self.y = rh * (self.y // rh)\n",
    "        pygame.draw.rect(screen, self.color, (self.x + 1, self.y + 1, rw - 1, rh - 1))"
   ]
  },
  {
   "cell_type": "code",
   "execution_count": 35,
   "metadata": {},
   "outputs": [],
   "source": [
    "def main():\n",
    "    pygame.init()\n",
    "    screen = pygame.display.set_mode((w, h + 50))\n",
    "    pygame.display.set_caption('Ants')\n",
    "    screen.fill(WHITE)\n",
    "    clock = pygame.time.Clock()\n",
    "    ant = Ant(x=w//2- rw, y=h//2 - rh)\n",
    "    grid = Grid()\n",
    "    grid.draw_grid(screen)\n",
    "    ant.draw(screen)\n",
    "    start_text = \"press SPACE to start\"\n",
    "    pause_text = \"press p to pause\"\n",
    "    quit_text  = \"press q to quit\"\n",
    "    counter_text = f'step : {ant.step}'\n",
    "    \n",
    "    font = pygame.font.SysFont('Arial', 18)\n",
    "    text1 = font.render(start_text, True, BLACK)\n",
    "    text2 = font.render(pause_text, True, BLACK)\n",
    "    text3 = font.render(quit_text, True, BLACK)\n",
    "    text4 = font.render(counter_text, True, BLACK)\n",
    "    \n",
    "    screen.blit(text1, (10, h + 2))\n",
    "    screen.blit(text2, (w // 3, h + 2))\n",
    "    screen.blit(text3, (2* (w // 3)-30, h + 2))\n",
    "    screen.blit(text4, (w - 120, h + 2))\n",
    "    running = True\n",
    "    while running:\n",
    "        for event in pygame.event.get():\n",
    "            if event.type == pygame.QUIT:\n",
    "                running = False\n",
    "            elif event.type == pygame.MOUSEBUTTONUP:\n",
    "                point = pygame.mouse.get_pos()\n",
    "                (i, j) = (point[1] // grid.rw, point[0] // grid.rh)\n",
    "                grid.grid[i, j] = 1\n",
    "                grid.draw_cell(screen, i, j)\n",
    "                ant.draw(screen)\n",
    "            elif event.type == pygame.KEYDOWN:\n",
    "                if event.key == pygame.K_SPACE:\n",
    "                    simulate = True\n",
    "                    while simulate:\n",
    "                        ant.update_cell(grid)\n",
    "                        (i, j) = int(ant.y // grid.rw) % grid.grid.shape[0], int(ant.x // grid.rh) % grid.grid.shape[1]\n",
    "                        grid.draw_cell(screen, i, j)\n",
    "                        ant.update(grid)\n",
    "                        ant.draw(screen)\n",
    "                        counter_text = f'step : {ant.step}'\n",
    "                        text4 = font.render(counter_text, True, BLACK)\n",
    "                        pygame.draw.rect(screen, WHITE, (w-120, h+1, 120, 50))\n",
    "                        screen.blit(text4, (w - 120, h + 2))\n",
    "                        pygame.display.update()\n",
    "                        for event in pygame.event.get():\n",
    "                            if event.type == pygame.KEYDOWN:\n",
    "                                if event.key == pygame.K_q:\n",
    "                                    simulate = False\n",
    "                                    running = False\n",
    "                                if event.key == pygame.K_SPACE:\n",
    "                                    simulate = not simulate\n",
    "        pygame.display.update()\n",
    "\n",
    "    pygame.quit()\n",
    "                "
   ]
  },
  {
   "cell_type": "code",
   "execution_count": 36,
   "metadata": {},
   "outputs": [],
   "source": [
    "main()"
   ]
  },
  {
   "cell_type": "code",
   "execution_count": 7,
   "metadata": {},
   "outputs": [],
   "source": [
    "def main():\n",
    "    screen = pygame.display.set_mode((w, h))\n",
    "    pygame.display.set_caption(\"Langton's ant\")\n",
    "    screen.fill(WHITE)\n",
    "    clock = pygame.time.Clock()\n",
    "    ant = Ant(x=w//2- rw, y=h//2 - rh)\n",
    "    grid = Grid()\n",
    "    grid.draw_grid(screen)\n",
    "    ant.draw(screen)\n",
    "    running = True\n",
    "    while running:\n",
    "        for event in pygame.event.get():\n",
    "            if event.type == pygame.QUIT:\n",
    "                running = False\n",
    "            elif event.type == pygame.MOUSEBUTTONUP:\n",
    "                point = pygame.mouse.get_pos()\n",
    "                (i, j) = (point[0] // grid.rw, point[1] // grid.rh)\n",
    "                grid.grid[i, j] = 1\n",
    "                grid.draw_cells(screen)\n",
    "                ant.draw(screen)\n",
    "            elif event.type == pygame.KEYDOWN:\n",
    "                if event.key == pygame.K_s:\n",
    "                    simulate = True\n",
    "                    while simulate:\n",
    "                        ant.update(grid)\n",
    "                        grid.draw_cells(screen)\n",
    "                        ant.draw(screen)\n",
    "                        pygame.display.update()\n",
    "        pygame.display.update()\n",
    "\n",
    "    pygame.quit()\n",
    "                "
   ]
  },
  {
   "cell_type": "code",
   "execution_count": 8,
   "metadata": {},
   "outputs": [],
   "source": [
    "if __name__ == '__main__':\n",
    "    main()"
   ]
  },
  {
   "cell_type": "code",
   "execution_count": null,
   "metadata": {},
   "outputs": [],
   "source": []
  },
  {
   "cell_type": "code",
   "execution_count": null,
   "metadata": {},
   "outputs": [],
   "source": []
  }
 ],
 "metadata": {
  "kernelspec": {
   "display_name": "Python 3",
   "language": "python",
   "name": "python3"
  },
  "language_info": {
   "codemirror_mode": {
    "name": "ipython",
    "version": 3
   },
   "file_extension": ".py",
   "mimetype": "text/x-python",
   "name": "python",
   "nbconvert_exporter": "python",
   "pygments_lexer": "ipython3",
   "version": "3.7.8"
  }
 },
 "nbformat": 4,
 "nbformat_minor": 4
}
