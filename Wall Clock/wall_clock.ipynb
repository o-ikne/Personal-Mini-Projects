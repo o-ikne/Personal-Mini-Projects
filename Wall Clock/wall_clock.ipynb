{
 "cells": [
  {
   "cell_type": "markdown",
   "metadata": {},
   "source": [
    "# Wall Clock"
   ]
  },
  {
   "cell_type": "markdown",
   "metadata": {},
   "source": [
    "## Libraries"
   ]
  },
  {
   "cell_type": "code",
   "execution_count": 6,
   "metadata": {},
   "outputs": [],
   "source": [
    "import pygame\n",
    "from numpy import cos, sin, pi\n",
    "from time import strftime, localtime"
   ]
  },
  {
   "cell_type": "markdown",
   "metadata": {},
   "source": [
    "## Parameters & Colors"
   ]
  },
  {
   "cell_type": "code",
   "execution_count": 7,
   "metadata": {},
   "outputs": [],
   "source": [
    "## colors\n",
    "WHITE = (255,255,255)\n",
    "BLUE = (28,128,128)\n",
    "BLACK1 = (10, 30, 30)\n",
    "BLACK2 = (20, 60, 60)\n",
    "GRAY = (0,100,100)\n",
    "RED = (180, 50, 28)\n",
    "YELLOW = (255,255,50)\n",
    "\n",
    "## Dimensions\n",
    "w = 400\n",
    "h = 600"
   ]
  },
  {
   "cell_type": "markdown",
   "metadata": {},
   "source": [
    "## Clock"
   ]
  },
  {
   "cell_type": "code",
   "execution_count": 8,
   "metadata": {},
   "outputs": [],
   "source": [
    "class Clock(object):\n",
    "    \n",
    "    def __init__(self, center:tuple, time=strftime('%H:%M:%S', localtime()), radius:int=160):\n",
    "        self.time    = time   ## the local time\n",
    "        self.radius  = radius ## the radius of the frame\n",
    "        self.center  = center ## the center of the clock\n",
    "        self.l_hrs   = 80     ## the lenght of hours pointer\n",
    "        self.l_mnts  = 100    ## the lenght of minutes pointer\n",
    "        self.l_scds  = 120    ## the lenght of seconds pointer\n",
    "        \n",
    "    def update(self):\n",
    "        \"\"\"update the time of the clock\"\"\"\n",
    "        self.time = strftime('%H:%M:%S', localtime())\n",
    "     \n",
    "    @property\n",
    "    def hours(self):\n",
    "        \"\"\"return the hours\"\"\"\n",
    "        return int(self.time[0:2])\n",
    "    \n",
    "    @property\n",
    "    def minutes(self):\n",
    "        \"\"\"return the minutes\"\"\"\n",
    "        return int(self.time[3:5])\n",
    "    \n",
    "    @property\n",
    "    def seconds(self):\n",
    "        \"\"\"return the seconds\"\"\"\n",
    "        return int(self.time[6:8])\n",
    "    \n",
    "    def draw_seconds_pointer(self, screen):\n",
    "        \"\"\"draw the seconds pointer\"\"\"\n",
    "        xs = self.center[0] + self.l_scds * cos(self.seconds / (3 * pi) - pi/2)\n",
    "        ys = self.center[1] + self.l_scds * sin(self.seconds / (3 * pi) - pi/2)\n",
    "        sx = -20 * cos(pi - self.seconds / (3 * pi) - pi/2)\n",
    "        sy = +20 * sin(pi - self.seconds / (3 * pi) - pi/2)\n",
    "        pygame.draw.lines(screen, WHITE, False, [self.center, (xs, ys)], 3) \n",
    "        pygame.draw.lines(screen, WHITE, False, [self.center, (self.center[0] + sx, self.center[1] + sy)], 3)\n",
    "    \n",
    "    def draw_minutes_pointer(self, screen):\n",
    "        \"\"\"draw the minutes pointer\"\"\"\n",
    "        xm = self.center[0] + self.l_mnts * cos(self.minutes / (3 * pi) - pi/2)\n",
    "        ym = self.center[1] + self.l_mnts * sin(self.minutes / (3 * pi) - pi/2)\n",
    "        pygame.draw.lines(screen, RED, False, [self.center, (xm, ym)], 4)\n",
    "    \n",
    "    def draw_hours_pointer(self, screen):\n",
    "        \"\"\"draw the hours pointer\"\"\"\n",
    "        xh = self.center[0] + self.l_hrs * cos(self.hours / (3 * pi) - pi/2)\n",
    "        yh = self.center[1] + self.l_hrs * sin(self.hours / (3 * pi) - pi/2)\n",
    "        pygame.draw.lines(screen, YELLOW, False, [self.center, (xh, yh)], 5)\n",
    "        \n",
    "    def draw_frame(self, screen):\n",
    "        \"\"\"draw the frame of the clock on the screen\"\"\"\n",
    "        pygame.draw.circle(screen, BLACK2, self.center, self.radius)\n",
    "        pygame.draw.circle(screen, GRAY, self.center, self.radius, 5)\n",
    "        pygame.draw.circle(screen, BLACK2, self.center, self.radius + 10, 10)\n",
    "        \n",
    "    def draw_ticks(self, screen):\n",
    "        \"\"\"draw the ticks of the clock on the screen\"\"\"\n",
    "        pygame.draw.circle(screen, GRAY, self.center, 10)\n",
    "        for i in range(1, 13):\n",
    "            x = self.center[0] + (self.radius - 30) * cos(5 * i / (3 * pi) - pi/2)\n",
    "            y = self.center[1] + (self.radius - 30) * sin(5 * i / (3 * pi) - pi/2)\n",
    "            if i % 3 == 0:\n",
    "                pygame.draw.lines(screen, BLUE, False, [(x, y - 5), (x, y + 5)], 10)\n",
    "            elif i % 3 != 0:\n",
    "                pygame.draw.circle(screen, BLACK1, (int(x), int(y)), 3)\n",
    "        \n",
    "    def draw(self, screen):\n",
    "        \"\"\"draw the clock on the screen\"\"\"\n",
    "        self.draw_frame(screen)\n",
    "        self.draw_seconds_pointer(screen)\n",
    "        self.draw_minutes_pointer(screen)\n",
    "        self.draw_hours_pointer(screen)\n",
    "        self.draw_ticks(screen)"
   ]
  },
  {
   "cell_type": "markdown",
   "metadata": {},
   "source": [
    "## Main function"
   ]
  },
  {
   "cell_type": "code",
   "execution_count": 9,
   "metadata": {},
   "outputs": [],
   "source": [
    "def main():\n",
    "    ## initiate the screen\n",
    "    pygame.font.init()\n",
    "    screen = pygame.display.set_mode([w, h])\n",
    "    screen.fill(BLACK1)\n",
    "    pygame.display.set_caption('Wall Clock')\n",
    "    font = pygame.font.SysFont('Decorative', 100)\n",
    "    \n",
    "    ## create a new Clock\n",
    "    clock = Clock(center=(w//2, h//3))\n",
    "    \n",
    "    running = True \n",
    "    while running:\n",
    "        for event in pygame.event.get():\n",
    "            if event.type == pygame.QUIT:\n",
    "                pygame.quit()\n",
    "\n",
    "        screen.fill(BLACK1)\n",
    "        clock.draw(screen)\n",
    "        text = font.render(clock.time, True, YELLOW)\n",
    "        screen.blit(text,(w//7, clock.center[1] + clock.radius + 50))\n",
    "        pygame.draw.lines(screen, BLUE, False,\n",
    "                          [(10, clock.center[1] + clock.radius + 120), (w - 10, clock.center[1] + clock.radius + 120)], 10)\n",
    "        pygame.display.update()\n",
    "        clock.update()\n",
    "            \n",
    "    pygame.quit()"
   ]
  },
  {
   "cell_type": "code",
   "execution_count": 10,
   "metadata": {},
   "outputs": [
    {
     "ename": "error",
     "evalue": "display Surface quit",
     "output_type": "error",
     "traceback": [
      "\u001b[0;31m---------------------------------------------------------------------------\u001b[0m",
      "\u001b[0;31merror\u001b[0m                                     Traceback (most recent call last)",
      "\u001b[0;32m<ipython-input-10-c7bc734e5e35>\u001b[0m in \u001b[0;36m<module>\u001b[0;34m\u001b[0m\n\u001b[1;32m      1\u001b[0m \u001b[0;32mif\u001b[0m \u001b[0m__name__\u001b[0m \u001b[0;34m==\u001b[0m \u001b[0;34m'__main__'\u001b[0m\u001b[0;34m:\u001b[0m\u001b[0;34m\u001b[0m\u001b[0;34m\u001b[0m\u001b[0m\n\u001b[0;32m----> 2\u001b[0;31m     \u001b[0mmain\u001b[0m\u001b[0;34m(\u001b[0m\u001b[0;34m)\u001b[0m\u001b[0;34m\u001b[0m\u001b[0;34m\u001b[0m\u001b[0m\n\u001b[0m",
      "\u001b[0;32m<ipython-input-9-3916c34c0a2f>\u001b[0m in \u001b[0;36mmain\u001b[0;34m()\u001b[0m\n\u001b[1;32m     16\u001b[0m                 \u001b[0mpygame\u001b[0m\u001b[0;34m.\u001b[0m\u001b[0mquit\u001b[0m\u001b[0;34m(\u001b[0m\u001b[0;34m)\u001b[0m\u001b[0;34m\u001b[0m\u001b[0;34m\u001b[0m\u001b[0m\n\u001b[1;32m     17\u001b[0m \u001b[0;34m\u001b[0m\u001b[0m\n\u001b[0;32m---> 18\u001b[0;31m         \u001b[0mscreen\u001b[0m\u001b[0;34m.\u001b[0m\u001b[0mfill\u001b[0m\u001b[0;34m(\u001b[0m\u001b[0mBLACK1\u001b[0m\u001b[0;34m)\u001b[0m\u001b[0;34m\u001b[0m\u001b[0;34m\u001b[0m\u001b[0m\n\u001b[0m\u001b[1;32m     19\u001b[0m         \u001b[0mclock\u001b[0m\u001b[0;34m.\u001b[0m\u001b[0mdraw\u001b[0m\u001b[0;34m(\u001b[0m\u001b[0mscreen\u001b[0m\u001b[0;34m)\u001b[0m\u001b[0;34m\u001b[0m\u001b[0;34m\u001b[0m\u001b[0m\n\u001b[1;32m     20\u001b[0m         \u001b[0mtext\u001b[0m \u001b[0;34m=\u001b[0m \u001b[0mfont\u001b[0m\u001b[0;34m.\u001b[0m\u001b[0mrender\u001b[0m\u001b[0;34m(\u001b[0m\u001b[0mclock\u001b[0m\u001b[0;34m.\u001b[0m\u001b[0mtime\u001b[0m\u001b[0;34m,\u001b[0m \u001b[0;32mTrue\u001b[0m\u001b[0;34m,\u001b[0m \u001b[0mYELLOW\u001b[0m\u001b[0;34m)\u001b[0m\u001b[0;34m\u001b[0m\u001b[0;34m\u001b[0m\u001b[0m\n",
      "\u001b[0;31merror\u001b[0m: display Surface quit"
     ]
    }
   ],
   "source": [
    "if __name__ == '__main__':\n",
    "    main()"
   ]
  },
  {
   "cell_type": "code",
   "execution_count": null,
   "metadata": {},
   "outputs": [],
   "source": []
  }
 ],
 "metadata": {
  "kernelspec": {
   "display_name": "Python 3",
   "language": "python",
   "name": "python3"
  },
  "language_info": {
   "codemirror_mode": {
    "name": "ipython",
    "version": 3
   },
   "file_extension": ".py",
   "mimetype": "text/x-python",
   "name": "python",
   "nbconvert_exporter": "python",
   "pygments_lexer": "ipython3",
   "version": "3.7.8"
  }
 },
 "nbformat": 4,
 "nbformat_minor": 4
}
