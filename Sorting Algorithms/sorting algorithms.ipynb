{
 "cells": [
  {
   "cell_type": "markdown",
   "metadata": {},
   "source": [
    "---\n",
    "---\n",
    "$$\\Large\\texttt{Sorting Algorithms}$$\n",
    "---\n",
    "---\n",
    "---"
   ]
  },
  {
   "cell_type": "markdown",
   "metadata": {},
   "source": [
    "## Libraries"
   ]
  },
  {
   "cell_type": "code",
   "execution_count": 1,
   "metadata": {},
   "outputs": [
    {
     "name": "stdout",
     "output_type": "stream",
     "text": [
      "pygame 2.0.1 (SDL 2.0.14, Python 3.8.3)\n",
      "Hello from the pygame community. https://www.pygame.org/contribute.html\n"
     ]
    }
   ],
   "source": [
    "import pygame\n",
    "import math\n",
    "import random"
   ]
  },
  {
   "cell_type": "markdown",
   "metadata": {},
   "source": [
    "## Dimensions"
   ]
  },
  {
   "cell_type": "code",
   "execution_count": 2,
   "metadata": {},
   "outputs": [],
   "source": [
    "## width & height\n",
    "w = 800\n",
    "h = 500"
   ]
  },
  {
   "cell_type": "markdown",
   "metadata": {},
   "source": [
    "## Colors"
   ]
  },
  {
   "cell_type": "code",
   "execution_count": 3,
   "metadata": {},
   "outputs": [],
   "source": [
    "GREEN = (34,139,34)\n",
    "WHITE = (255,255,255)\n",
    "GRAY = (128,128,128)\n",
    "RED = (255, 0, 0)\n",
    "BLACK = (0, 0, 0)"
   ]
  },
  {
   "cell_type": "markdown",
   "metadata": {},
   "source": [
    "## Boule Sort"
   ]
  },
  {
   "cell_type": "code",
   "execution_count": 4,
   "metadata": {},
   "outputs": [],
   "source": [
    "def boule_sort(data, screen):  ##O(n^2)\n",
    "    for i in range(len(data)):\n",
    "        for j in range(len(data)-i-1):\n",
    "            if data[j] > data[j+1]:\n",
    "                data[j], data[j+1] = data[j+1], data[j]\n",
    "                screen.fill(BLACK)\n",
    "                for k in range(len(data)):\n",
    "                    pygame.draw.lines(screen, WHITE, False, [(k, h), (k, h-data[k])], 1)\n",
    "                pygame.draw.lines(screen, RED, False, [(j, h), (j, h-data[j])], 2)\n",
    "                pygame.display.update()\n",
    "    return data"
   ]
  },
  {
   "cell_type": "markdown",
   "metadata": {},
   "source": [
    "## Selection Sort"
   ]
  },
  {
   "cell_type": "code",
   "execution_count": 5,
   "metadata": {},
   "outputs": [],
   "source": [
    "def selection_sort(data, screen):  ## O(nlog(n))\n",
    "    for i in range(len(data)-1):\n",
    "        mini = i\n",
    "        for j in range(i+1, len(data)):\n",
    "            if data[j] < data[mini]:\n",
    "                mini = j\n",
    "        if mini != i:\n",
    "            data[i], data[mini] = data[mini], data[i]\n",
    "            screen.fill(BLACK)\n",
    "            for k in range(len(data)):\n",
    "                pygame.draw.lines(screen, WHITE, False, [(k, h), (k, h-data[k])], 1)\n",
    "            pygame.draw.lines(screen, RED, False, [(i, h), (i, h-data[i])], 2)\n",
    "            pygame.display.update()\n",
    "    return data"
   ]
  },
  {
   "cell_type": "markdown",
   "metadata": {},
   "source": [
    "## Quick Sort"
   ]
  },
  {
   "cell_type": "code",
   "execution_count": 6,
   "metadata": {},
   "outputs": [],
   "source": [
    "def quick_sort(data, s, e, screen):\n",
    "    if s < e:\n",
    "        pivot = random.choice(data[s:e])\n",
    "        pivot = partition(data, s, e, pivot, screen)\n",
    "        quick_sort(data, s, pivot-1, screen)\n",
    "        quick_sort(data, pivot+1, e, screen)\n",
    "        \n",
    "def partition(data, s, e, pivot, screen):\n",
    "    data[s], data[pivot] = data[pivot], data[s]\n",
    "    j = s\n",
    "    for i in range(s-1):\n",
    "        if data[i] <= data[s]:\n",
    "            data[i], data[j] = data[j], data[i]\n",
    "            j += 1\n",
    "            screen.fill(BLACK)\n",
    "            for k in range(len(data)):\n",
    "                pygame.draw.lines(screen, WHITE, False, [(k, h), (k, h-data[k])], 1)\n",
    "            pygame.display.update()\n",
    "    data[s], data[j] = data[j], data[s]\n",
    "    return j"
   ]
  },
  {
   "cell_type": "markdown",
   "metadata": {},
   "source": [
    "## Visualize selection Sort"
   ]
  },
  {
   "cell_type": "code",
   "execution_count": 8,
   "metadata": {},
   "outputs": [],
   "source": [
    "## generate random data\n",
    "data = [random.randint(1, h) for i in range(w)]\n",
    "\n",
    "def main():\n",
    "    pygame.init()\n",
    "    screen = pygame.display.set_mode((w, h))\n",
    "    pygame.display.set_caption('Selection Sort')\n",
    "    clock = pygame.time.Clock()\n",
    "    selection_sort(data, screen)\n",
    "    running = True\n",
    "    while running:\n",
    "        for event in pygame.event.get():\n",
    "            if event.type == pygame.QUIT:\n",
    "                pygame.quit()\n",
    "\n",
    "        pygame.display.update()\n",
    "        \n",
    "if __name__ == '__main__':\n",
    "    main()"
   ]
  },
  {
   "cell_type": "markdown",
   "metadata": {},
   "source": [
    "## Visualize Boule Sort"
   ]
  },
  {
   "cell_type": "code",
   "execution_count": null,
   "metadata": {},
   "outputs": [],
   "source": [
    "## generate random data\n",
    "data = [random.randint(1, h) for i in range(w)]\n",
    "\n",
    "def main():\n",
    "    pygame.init()\n",
    "    screen = pygame.display.set_mode((w, h))\n",
    "    pygame.display.set_caption('Boule Sort')\n",
    "    clock = pygame.time.Clock()\n",
    "    boule_sort(data, screen)\n",
    "    running = True\n",
    "    while running:\n",
    "        for event in pygame.event.get():\n",
    "            if event.type == pygame.QUIT:\n",
    "                pygame.quit()\n",
    "\n",
    "        pygame.display.update()\n",
    "\n",
    "        #clock.tick(1)\n",
    "        \n",
    "if __name__ == '__main__':\n",
    "    main()"
   ]
  },
  {
   "cell_type": "markdown",
   "metadata": {},
   "source": [
    "## Visualize Quick sort"
   ]
  },
  {
   "cell_type": "code",
   "execution_count": null,
   "metadata": {},
   "outputs": [],
   "source": [
    "## generate random data\n",
    "data = [random.randint(1, h) for i in range(w)]\n",
    "\n",
    "def main():\n",
    "    pygame.init()\n",
    "    screen = pygame.display.set_mode((w, h))\n",
    "    pygame.display.set_caption('Quick sort')\n",
    "    clock = pygame.time.Clock()\n",
    "    quick_sort(data, 0, len(data)-1, screen)\n",
    "    running = True\n",
    "    while running:\n",
    "        for event in pygame.event.get():\n",
    "            if event.type == pygame.QUIT:\n",
    "                pygame.quit()\n",
    "\n",
    "        pygame.display.update()\n",
    "        \n",
    "if __name__ == '__main__':\n",
    "    main()"
   ]
  }
 ],
 "metadata": {
  "kernelspec": {
   "display_name": "Python 3",
   "language": "python",
   "name": "python3"
  },
  "language_info": {
   "codemirror_mode": {
    "name": "ipython",
    "version": 3
   },
   "file_extension": ".py",
   "mimetype": "text/x-python",
   "name": "python",
   "nbconvert_exporter": "python",
   "pygments_lexer": "ipython3",
   "version": "3.8.3"
  }
 },
 "nbformat": 4,
 "nbformat_minor": 4
}
