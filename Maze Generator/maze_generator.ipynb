{
 "cells": [
  {
   "cell_type": "markdown",
   "metadata": {},
   "source": [
    "# Maze Generator"
   ]
  },
  {
   "cell_type": "markdown",
   "metadata": {},
   "source": [
    "## Libraries"
   ]
  },
  {
   "cell_type": "code",
   "execution_count": 1,
   "metadata": {},
   "outputs": [
    {
     "name": "stdout",
     "output_type": "stream",
     "text": [
      "pygame 1.9.6\n",
      "Hello from the pygame community. https://www.pygame.org/contribute.html\n"
     ]
    }
   ],
   "source": [
    "import pygame\n",
    "import random"
   ]
  },
  {
   "cell_type": "markdown",
   "metadata": {},
   "source": [
    "## Colors & Parameters"
   ]
  },
  {
   "cell_type": "code",
   "execution_count": 12,
   "metadata": {},
   "outputs": [],
   "source": [
    "## colors\n",
    "GREEN  = (34, 200, 34)\n",
    "WHITE  = (255, 255, 255)\n",
    "GRAY   = (128, 128, 128)\n",
    "RED    = (200, 0, 0)\n",
    "BLACK  = (0, 0, 0)\n",
    "YELLOW = (255, 255, 0)\n",
    "colors = [GREEN, GRAY, RED, YELLOW]\n",
    "\n",
    "## Dimensions\n",
    "w  = 800 # the width of the grid\n",
    "h  = 500 # the height of the grid\n",
    "rw = 20  # the width of grid's cells\n",
    "rh = 20  # the height of the grid's cells"
   ]
  },
  {
   "cell_type": "markdown",
   "metadata": {},
   "source": [
    "## Cell Class"
   ]
  },
  {
   "cell_type": "code",
   "execution_count": 13,
   "metadata": {},
   "outputs": [],
   "source": [
    "class Cell:\n",
    "    def __init__(self, i:int=0, j:int=0, line_width:int=1, color:tuple=BLACK):\n",
    "        self.i = i\n",
    "        self.j = j\n",
    "        self.top_edge = True\n",
    "        self.bottom_edge = True\n",
    "        self.right_edge = True\n",
    "        self.left_edge = True\n",
    "        self.line_width = line_width\n",
    "        self.is_viseted = False\n",
    "        self.color = color\n",
    "        \n",
    "            \n",
    "    def draw(self, screen):\n",
    "        \"\"\"draw the cell edges on the screen\"\"\"\n",
    "        if self.top_edge:\n",
    "            pygame.draw.lines(screen, self.color, False, [(self.i * rw, self.j * rh), ((self.i + 1) * rw, self.j * rh)], self.line_width)\n",
    "        if self.bottom_edge:\n",
    "            pygame.draw.lines(screen, self.color, False, [(self.i * rw, (self.j + 1) * rh), ((self.i + 1) * rw, (self.j + 1) * rh)], self.line_width)\n",
    "        if self.left_edge:\n",
    "            pygame.draw.lines(screen, self.color, False, [(self.i * rw, self.j * rh), (self.i * rw, (self.j + 1) * rh)], self.line_width)\n",
    "        if self.right_edge:\n",
    "            pygame.draw.lines(screen, self.color, False, [((self.i + 1) * rw, self.j * rh), ((self.i + 1) * rw, (self.j + 1) * rh)], self.line_width)"
   ]
  },
  {
   "cell_type": "markdown",
   "metadata": {},
   "source": [
    "## Maze Class"
   ]
  },
  {
   "cell_type": "code",
   "execution_count": 14,
   "metadata": {},
   "outputs": [],
   "source": [
    "class Maze:\n",
    "    def __init__(self):\n",
    "        self.cells = [[Cell(i=j, j=i) for j in range(w // rw)]  for i in range(h // rh)]\n",
    "          \n",
    "    def get_neighbours(self, cell:Cell) -> list:\n",
    "        \"\"\"return the neighbours of a cell\"\"\"\n",
    "        neigbours = []\n",
    "        for i in range(max(0, cell.i - 1), min(len(self.cells[0]), cell.i + 2)):\n",
    "            for j in range(max(0, cell.j - 1), min(len(self.cells), cell.j + 2)):\n",
    "                if (i == cell.i or j == cell.j) and not self.cells[j][i].is_viseted:\n",
    "                    neigbours.append(self.cells[j][i])\n",
    "        return neigbours\n",
    "    \n",
    "    def remove_edge(self, cell1:Cell, cell2:Cell):\n",
    "        \"\"\"remove the edge between the cell1 and cell2\"\"\"\n",
    "        i = cell2.i - cell1.i\n",
    "        j = cell2.j - cell1.j\n",
    "        if i == 1:\n",
    "            cell1.right_edge = False\n",
    "            cell2.left_edge = False\n",
    "        elif i == -1:\n",
    "            cell1.left_edge = False\n",
    "            cell2.right_edge = False\n",
    "        elif j == 1:\n",
    "            cell1.bottom_edge = False\n",
    "            cell2.top_edge = False            \n",
    "        elif j == -1:\n",
    "            cell1.top_edge = False\n",
    "            cell2.bottom_edge = False         \n",
    "         \n",
    "    def draw(self, screen):\n",
    "        \"\"\"draw the cells edges of the grid on the screen\"\"\"\n",
    "        for row in self.cells:\n",
    "            for cell in row:\n",
    "                cell.draw(screen)"
   ]
  },
  {
   "cell_type": "markdown",
   "metadata": {},
   "source": [
    "## Main Function"
   ]
  },
  {
   "cell_type": "code",
   "execution_count": 17,
   "metadata": {},
   "outputs": [],
   "source": [
    "def main():\n",
    "    pygame.font.init()\n",
    "    ## initiate the screen\n",
    "    screen = pygame.display.set_mode((w, h))\n",
    "    pygame.display.set_caption('Maze Generator')\n",
    "    screen.fill(WHITE)\n",
    "    clock = pygame.time.Clock()\n",
    "    font = pygame.font.SysFont('Decorative', 50)\n",
    "    text = font.render('press any key to start', True, BLACK)   \n",
    "    screen.blit(text, (w//8, h//2))\n",
    "    \n",
    "    ## create a new maze\n",
    "    maze = Maze()\n",
    "    start = maze.cells[0][0]\n",
    "    end = maze.cells[-1][-1]\n",
    "    \n",
    "    pygame.display.update()\n",
    "    \n",
    "    ## initiate none visited cells\n",
    "    not_visited = []\n",
    "    \n",
    "    running = True\n",
    "    while running:\n",
    "        for event in pygame.event.get():\n",
    "            if event.type == pygame.QUIT:\n",
    "                pygame.quit()\n",
    "            \n",
    "            elif event.type == pygame.KEYDOWN:\n",
    "                current_cell = maze.cells[0][0]\n",
    "                current_cell.is_viseted = True\n",
    "                not_visited += [current_cell]      \n",
    "                while not_visited:\n",
    "                    current_cell = not_visited.pop()\n",
    "                    if maze.get_neighbours(current_cell):\n",
    "                        not_visited.append(current_cell)\n",
    "                        next_cell = random.choice(maze.get_neighbours(current_cell))\n",
    "                        maze.remove_edge(current_cell, next_cell)\n",
    "                        next_cell.is_viseted = True\n",
    "                        not_visited.append(next_cell)\n",
    "                    screen.fill(WHITE)\n",
    "                    coord = (current_cell.i * rw + current_cell.line_width, current_cell.j * rh + current_cell.line_width,\n",
    "                             rw - current_cell.line_width, rh - current_cell.line_width)\n",
    "                    pygame.draw.rect(screen, YELLOW, coord)\n",
    "                    pygame.draw.rect(screen, GREEN, (start.i * rw + start.line_width, start.j * rh + start.line_width,\n",
    "                                             rw - start.line_width, rh - start.line_width))\n",
    "                    pygame.draw.rect(screen, RED, (end.i * rw + end.line_width, end.j * rh + end.line_width,\n",
    "                                             rw - end.line_width, rh - end.line_width))\n",
    "                    maze.draw(screen)\n",
    "                    pygame.display.update()\n",
    "                    clock.tick(10)\n",
    "\n",
    "               "
   ]
  },
  {
   "cell_type": "code",
   "execution_count": 18,
   "metadata": {},
   "outputs": [
    {
     "ename": "error",
     "evalue": "video system not initialized",
     "output_type": "error",
     "traceback": [
      "\u001b[0;31m---------------------------------------------------------------------------\u001b[0m",
      "\u001b[0;31merror\u001b[0m                                     Traceback (most recent call last)",
      "\u001b[0;32m<ipython-input-18-c7bc734e5e35>\u001b[0m in \u001b[0;36m<module>\u001b[0;34m\u001b[0m\n\u001b[1;32m      1\u001b[0m \u001b[0;32mif\u001b[0m \u001b[0m__name__\u001b[0m \u001b[0;34m==\u001b[0m \u001b[0;34m'__main__'\u001b[0m\u001b[0;34m:\u001b[0m\u001b[0;34m\u001b[0m\u001b[0;34m\u001b[0m\u001b[0m\n\u001b[0;32m----> 2\u001b[0;31m     \u001b[0mmain\u001b[0m\u001b[0;34m(\u001b[0m\u001b[0;34m)\u001b[0m\u001b[0;34m\u001b[0m\u001b[0;34m\u001b[0m\u001b[0m\n\u001b[0m",
      "\u001b[0;32m<ipython-input-17-b18dfdd277f2>\u001b[0m in \u001b[0;36mmain\u001b[0;34m()\u001b[0m\n\u001b[1;32m     22\u001b[0m     \u001b[0mrunning\u001b[0m \u001b[0;34m=\u001b[0m \u001b[0;32mTrue\u001b[0m\u001b[0;34m\u001b[0m\u001b[0;34m\u001b[0m\u001b[0m\n\u001b[1;32m     23\u001b[0m     \u001b[0;32mwhile\u001b[0m \u001b[0mrunning\u001b[0m\u001b[0;34m:\u001b[0m\u001b[0;34m\u001b[0m\u001b[0;34m\u001b[0m\u001b[0m\n\u001b[0;32m---> 24\u001b[0;31m         \u001b[0;32mfor\u001b[0m \u001b[0mevent\u001b[0m \u001b[0;32min\u001b[0m \u001b[0mpygame\u001b[0m\u001b[0;34m.\u001b[0m\u001b[0mevent\u001b[0m\u001b[0;34m.\u001b[0m\u001b[0mget\u001b[0m\u001b[0;34m(\u001b[0m\u001b[0;34m)\u001b[0m\u001b[0;34m:\u001b[0m\u001b[0;34m\u001b[0m\u001b[0;34m\u001b[0m\u001b[0m\n\u001b[0m\u001b[1;32m     25\u001b[0m             \u001b[0;32mif\u001b[0m \u001b[0mevent\u001b[0m\u001b[0;34m.\u001b[0m\u001b[0mtype\u001b[0m \u001b[0;34m==\u001b[0m \u001b[0mpygame\u001b[0m\u001b[0;34m.\u001b[0m\u001b[0mQUIT\u001b[0m\u001b[0;34m:\u001b[0m\u001b[0;34m\u001b[0m\u001b[0;34m\u001b[0m\u001b[0m\n\u001b[1;32m     26\u001b[0m                 \u001b[0mpygame\u001b[0m\u001b[0;34m.\u001b[0m\u001b[0mquit\u001b[0m\u001b[0;34m(\u001b[0m\u001b[0;34m)\u001b[0m\u001b[0;34m\u001b[0m\u001b[0;34m\u001b[0m\u001b[0m\n",
      "\u001b[0;31merror\u001b[0m: video system not initialized"
     ]
    }
   ],
   "source": [
    "if __name__ == '__main__':\n",
    "    main()"
   ]
  }
 ],
 "metadata": {
  "kernelspec": {
   "display_name": "Python 3",
   "language": "python",
   "name": "python3"
  },
  "language_info": {
   "codemirror_mode": {
    "name": "ipython",
    "version": 3
   },
   "file_extension": ".py",
   "mimetype": "text/x-python",
   "name": "python",
   "nbconvert_exporter": "python",
   "pygments_lexer": "ipython3",
   "version": "3.7.8"
  }
 },
 "nbformat": 4,
 "nbformat_minor": 4
}
